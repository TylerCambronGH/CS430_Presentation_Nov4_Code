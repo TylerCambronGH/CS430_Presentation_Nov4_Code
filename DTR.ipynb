{
  "nbformat": 4,
  "nbformat_minor": 0,
  "metadata": {
    "colab": {
      "provenance": [],
      "collapsed_sections": []
    },
    "kernelspec": {
      "name": "python3",
      "display_name": "Python 3"
    },
    "language_info": {
      "name": "python"
    }
  },
  "cells": [
    {
      "cell_type": "markdown",
      "source": [
        "# Decision Tree Regressor"
      ],
      "metadata": {
        "id": "Bo1oCfynn40d"
      }
    },
    {
      "cell_type": "code",
      "execution_count": null,
      "metadata": {
        "id": "Aj03Bq8HnE8i"
      },
      "outputs": [],
      "source": [
        "import pandas as pd\n",
        "import numpy as np\n",
        "import matplotlib.pyplot as plt"
      ]
    },
    {
      "cell_type": "code",
      "source": [
        "df = pd.read_csv(\"/content/drive/MyDrive/Colab Notebooks/Ch6/audi car dataset.csv\")"
      ],
      "metadata": {
        "id": "jx7QVpsFnOy-"
      },
      "execution_count": null,
      "outputs": []
    },
    {
      "cell_type": "code",
      "source": [
        "df.head()"
      ],
      "metadata": {
        "colab": {
          "base_uri": "https://localhost:8080/",
          "height": 206
        },
        "id": "lxkhg6FwnbZF",
        "outputId": "008d77bf-ec3c-4458-8298-012ed53fac32"
      },
      "execution_count": null,
      "outputs": [
        {
          "output_type": "execute_result",
          "data": {
            "text/plain": [
              "  model  year transmission  distance fuelType  tax   mpg  engineSize  \\\n",
              "0    A1  2017       Manual     15735   Petrol  150  55.4         1.4   \n",
              "1    A6  2016    Automatic     36203   Diesel   20  64.2         2.0   \n",
              "2    A1  2016       Manual     29946   Petrol   30  55.4         1.4   \n",
              "3    A4  2017    Automatic     25952   Diesel  145  67.3         2.0   \n",
              "4    A3  2019       Manual      1998   Petrol  145  49.6         1.0   \n",
              "\n",
              "   europrice  \n",
              "0      12500  \n",
              "1      16500  \n",
              "2      11000  \n",
              "3      16800  \n",
              "4      17300  "
            ],
            "text/html": [
              "\n",
              "  <div id=\"df-90b8f632-3e54-41cb-b862-435ce549cb29\">\n",
              "    <div class=\"colab-df-container\">\n",
              "      <div>\n",
              "<style scoped>\n",
              "    .dataframe tbody tr th:only-of-type {\n",
              "        vertical-align: middle;\n",
              "    }\n",
              "\n",
              "    .dataframe tbody tr th {\n",
              "        vertical-align: top;\n",
              "    }\n",
              "\n",
              "    .dataframe thead th {\n",
              "        text-align: right;\n",
              "    }\n",
              "</style>\n",
              "<table border=\"1\" class=\"dataframe\">\n",
              "  <thead>\n",
              "    <tr style=\"text-align: right;\">\n",
              "      <th></th>\n",
              "      <th>model</th>\n",
              "      <th>year</th>\n",
              "      <th>transmission</th>\n",
              "      <th>distance</th>\n",
              "      <th>fuelType</th>\n",
              "      <th>tax</th>\n",
              "      <th>mpg</th>\n",
              "      <th>engineSize</th>\n",
              "      <th>europrice</th>\n",
              "    </tr>\n",
              "  </thead>\n",
              "  <tbody>\n",
              "    <tr>\n",
              "      <th>0</th>\n",
              "      <td>A1</td>\n",
              "      <td>2017</td>\n",
              "      <td>Manual</td>\n",
              "      <td>15735</td>\n",
              "      <td>Petrol</td>\n",
              "      <td>150</td>\n",
              "      <td>55.4</td>\n",
              "      <td>1.4</td>\n",
              "      <td>12500</td>\n",
              "    </tr>\n",
              "    <tr>\n",
              "      <th>1</th>\n",
              "      <td>A6</td>\n",
              "      <td>2016</td>\n",
              "      <td>Automatic</td>\n",
              "      <td>36203</td>\n",
              "      <td>Diesel</td>\n",
              "      <td>20</td>\n",
              "      <td>64.2</td>\n",
              "      <td>2.0</td>\n",
              "      <td>16500</td>\n",
              "    </tr>\n",
              "    <tr>\n",
              "      <th>2</th>\n",
              "      <td>A1</td>\n",
              "      <td>2016</td>\n",
              "      <td>Manual</td>\n",
              "      <td>29946</td>\n",
              "      <td>Petrol</td>\n",
              "      <td>30</td>\n",
              "      <td>55.4</td>\n",
              "      <td>1.4</td>\n",
              "      <td>11000</td>\n",
              "    </tr>\n",
              "    <tr>\n",
              "      <th>3</th>\n",
              "      <td>A4</td>\n",
              "      <td>2017</td>\n",
              "      <td>Automatic</td>\n",
              "      <td>25952</td>\n",
              "      <td>Diesel</td>\n",
              "      <td>145</td>\n",
              "      <td>67.3</td>\n",
              "      <td>2.0</td>\n",
              "      <td>16800</td>\n",
              "    </tr>\n",
              "    <tr>\n",
              "      <th>4</th>\n",
              "      <td>A3</td>\n",
              "      <td>2019</td>\n",
              "      <td>Manual</td>\n",
              "      <td>1998</td>\n",
              "      <td>Petrol</td>\n",
              "      <td>145</td>\n",
              "      <td>49.6</td>\n",
              "      <td>1.0</td>\n",
              "      <td>17300</td>\n",
              "    </tr>\n",
              "  </tbody>\n",
              "</table>\n",
              "</div>\n",
              "      <button class=\"colab-df-convert\" onclick=\"convertToInteractive('df-90b8f632-3e54-41cb-b862-435ce549cb29')\"\n",
              "              title=\"Convert this dataframe to an interactive table.\"\n",
              "              style=\"display:none;\">\n",
              "        \n",
              "  <svg xmlns=\"http://www.w3.org/2000/svg\" height=\"24px\"viewBox=\"0 0 24 24\"\n",
              "       width=\"24px\">\n",
              "    <path d=\"M0 0h24v24H0V0z\" fill=\"none\"/>\n",
              "    <path d=\"M18.56 5.44l.94 2.06.94-2.06 2.06-.94-2.06-.94-.94-2.06-.94 2.06-2.06.94zm-11 1L8.5 8.5l.94-2.06 2.06-.94-2.06-.94L8.5 2.5l-.94 2.06-2.06.94zm10 10l.94 2.06.94-2.06 2.06-.94-2.06-.94-.94-2.06-.94 2.06-2.06.94z\"/><path d=\"M17.41 7.96l-1.37-1.37c-.4-.4-.92-.59-1.43-.59-.52 0-1.04.2-1.43.59L10.3 9.45l-7.72 7.72c-.78.78-.78 2.05 0 2.83L4 21.41c.39.39.9.59 1.41.59.51 0 1.02-.2 1.41-.59l7.78-7.78 2.81-2.81c.8-.78.8-2.07 0-2.86zM5.41 20L4 18.59l7.72-7.72 1.47 1.35L5.41 20z\"/>\n",
              "  </svg>\n",
              "      </button>\n",
              "      \n",
              "  <style>\n",
              "    .colab-df-container {\n",
              "      display:flex;\n",
              "      flex-wrap:wrap;\n",
              "      gap: 12px;\n",
              "    }\n",
              "\n",
              "    .colab-df-convert {\n",
              "      background-color: #E8F0FE;\n",
              "      border: none;\n",
              "      border-radius: 50%;\n",
              "      cursor: pointer;\n",
              "      display: none;\n",
              "      fill: #1967D2;\n",
              "      height: 32px;\n",
              "      padding: 0 0 0 0;\n",
              "      width: 32px;\n",
              "    }\n",
              "\n",
              "    .colab-df-convert:hover {\n",
              "      background-color: #E2EBFA;\n",
              "      box-shadow: 0px 1px 2px rgba(60, 64, 67, 0.3), 0px 1px 3px 1px rgba(60, 64, 67, 0.15);\n",
              "      fill: #174EA6;\n",
              "    }\n",
              "\n",
              "    [theme=dark] .colab-df-convert {\n",
              "      background-color: #3B4455;\n",
              "      fill: #D2E3FC;\n",
              "    }\n",
              "\n",
              "    [theme=dark] .colab-df-convert:hover {\n",
              "      background-color: #434B5C;\n",
              "      box-shadow: 0px 1px 3px 1px rgba(0, 0, 0, 0.15);\n",
              "      filter: drop-shadow(0px 1px 2px rgba(0, 0, 0, 0.3));\n",
              "      fill: #FFFFFF;\n",
              "    }\n",
              "  </style>\n",
              "\n",
              "      <script>\n",
              "        const buttonEl =\n",
              "          document.querySelector('#df-90b8f632-3e54-41cb-b862-435ce549cb29 button.colab-df-convert');\n",
              "        buttonEl.style.display =\n",
              "          google.colab.kernel.accessAllowed ? 'block' : 'none';\n",
              "\n",
              "        async function convertToInteractive(key) {\n",
              "          const element = document.querySelector('#df-90b8f632-3e54-41cb-b862-435ce549cb29');\n",
              "          const dataTable =\n",
              "            await google.colab.kernel.invokeFunction('convertToInteractive',\n",
              "                                                     [key], {});\n",
              "          if (!dataTable) return;\n",
              "\n",
              "          const docLinkHtml = 'Like what you see? Visit the ' +\n",
              "            '<a target=\"_blank\" href=https://colab.research.google.com/notebooks/data_table.ipynb>data table notebook</a>'\n",
              "            + ' to learn more about interactive tables.';\n",
              "          element.innerHTML = '';\n",
              "          dataTable['output_type'] = 'display_data';\n",
              "          await google.colab.output.renderOutput(dataTable, element);\n",
              "          const docLink = document.createElement('div');\n",
              "          docLink.innerHTML = docLinkHtml;\n",
              "          element.appendChild(docLink);\n",
              "        }\n",
              "      </script>\n",
              "    </div>\n",
              "  </div>\n",
              "  "
            ]
          },
          "metadata": {},
          "execution_count": 33
        }
      ]
    },
    {
      "cell_type": "code",
      "source": [
        "df['model'].value_counts()"
      ],
      "metadata": {
        "colab": {
          "base_uri": "https://localhost:8080/"
        },
        "id": "lMvpoAO0ssH3",
        "outputId": "ff87bccb-ab9b-4dcc-c25f-9add95a33196"
      },
      "execution_count": null,
      "outputs": [
        {
          "output_type": "execute_result",
          "data": {
            "text/plain": [
              " A3     1929\n",
              " Q3     1417\n",
              " A4     1381\n",
              " A1     1347\n",
              " A5      882\n",
              " Q5      877\n",
              " Q2      822\n",
              " A6      748\n",
              " Q7      397\n",
              " TT      336\n",
              " A7      122\n",
              " A8      118\n",
              " Q8       69\n",
              " RS6      39\n",
              " RS3      33\n",
              " RS4      31\n",
              " RS5      29\n",
              " R8       28\n",
              " S3       18\n",
              " SQ5      16\n",
              " S4       12\n",
              " SQ7       8\n",
              " S8        4\n",
              " S5        3\n",
              " A2        1\n",
              " RS7       1\n",
              "Name: model, dtype: int64"
            ]
          },
          "metadata": {},
          "execution_count": 34
        }
      ]
    },
    {
      "cell_type": "markdown",
      "source": [
        "## Encode Categorical Variable"
      ],
      "metadata": {
        "id": "RsB04YzVojRr"
      }
    },
    {
      "cell_type": "code",
      "source": [
        "df = pd.get_dummies(df, ['model', 'transmission', 'fuelType'])"
      ],
      "metadata": {
        "id": "aeUewBNhoCId"
      },
      "execution_count": null,
      "outputs": []
    },
    {
      "cell_type": "code",
      "source": [
        "df.head()"
      ],
      "metadata": {
        "colab": {
          "base_uri": "https://localhost:8080/",
          "height": 317
        },
        "id": "jCuxU1fgox6p",
        "outputId": "d2fe7189-b61d-4c86-8c63-4596f008803c"
      },
      "execution_count": null,
      "outputs": [
        {
          "output_type": "execute_result",
          "data": {
            "text/plain": [
              "   year  distance  tax   mpg  engineSize  europrice  model_ A1  model_ A2  \\\n",
              "0  2017     15735  150  55.4         1.4      12500          1          0   \n",
              "1  2016     36203   20  64.2         2.0      16500          0          0   \n",
              "2  2016     29946   30  55.4         1.4      11000          1          0   \n",
              "3  2017     25952  145  67.3         2.0      16800          0          0   \n",
              "4  2019      1998  145  49.6         1.0      17300          0          0   \n",
              "\n",
              "   model_ A3  model_ A4  ...  model_ S8  model_ SQ5  model_ SQ7  model_ TT  \\\n",
              "0          0          0  ...          0           0           0          0   \n",
              "1          0          0  ...          0           0           0          0   \n",
              "2          0          0  ...          0           0           0          0   \n",
              "3          0          1  ...          0           0           0          0   \n",
              "4          1          0  ...          0           0           0          0   \n",
              "\n",
              "   transmission_Automatic  transmission_Manual  transmission_Semi-Auto  \\\n",
              "0                       0                    1                       0   \n",
              "1                       1                    0                       0   \n",
              "2                       0                    1                       0   \n",
              "3                       1                    0                       0   \n",
              "4                       0                    1                       0   \n",
              "\n",
              "   fuelType_Diesel  fuelType_Hybrid  fuelType_Petrol  \n",
              "0                0                0                1  \n",
              "1                1                0                0  \n",
              "2                0                0                1  \n",
              "3                1                0                0  \n",
              "4                0                0                1  \n",
              "\n",
              "[5 rows x 38 columns]"
            ],
            "text/html": [
              "\n",
              "  <div id=\"df-bc79739d-75f2-4c89-b895-006276c04937\">\n",
              "    <div class=\"colab-df-container\">\n",
              "      <div>\n",
              "<style scoped>\n",
              "    .dataframe tbody tr th:only-of-type {\n",
              "        vertical-align: middle;\n",
              "    }\n",
              "\n",
              "    .dataframe tbody tr th {\n",
              "        vertical-align: top;\n",
              "    }\n",
              "\n",
              "    .dataframe thead th {\n",
              "        text-align: right;\n",
              "    }\n",
              "</style>\n",
              "<table border=\"1\" class=\"dataframe\">\n",
              "  <thead>\n",
              "    <tr style=\"text-align: right;\">\n",
              "      <th></th>\n",
              "      <th>year</th>\n",
              "      <th>distance</th>\n",
              "      <th>tax</th>\n",
              "      <th>mpg</th>\n",
              "      <th>engineSize</th>\n",
              "      <th>europrice</th>\n",
              "      <th>model_ A1</th>\n",
              "      <th>model_ A2</th>\n",
              "      <th>model_ A3</th>\n",
              "      <th>model_ A4</th>\n",
              "      <th>...</th>\n",
              "      <th>model_ S8</th>\n",
              "      <th>model_ SQ5</th>\n",
              "      <th>model_ SQ7</th>\n",
              "      <th>model_ TT</th>\n",
              "      <th>transmission_Automatic</th>\n",
              "      <th>transmission_Manual</th>\n",
              "      <th>transmission_Semi-Auto</th>\n",
              "      <th>fuelType_Diesel</th>\n",
              "      <th>fuelType_Hybrid</th>\n",
              "      <th>fuelType_Petrol</th>\n",
              "    </tr>\n",
              "  </thead>\n",
              "  <tbody>\n",
              "    <tr>\n",
              "      <th>0</th>\n",
              "      <td>2017</td>\n",
              "      <td>15735</td>\n",
              "      <td>150</td>\n",
              "      <td>55.4</td>\n",
              "      <td>1.4</td>\n",
              "      <td>12500</td>\n",
              "      <td>1</td>\n",
              "      <td>0</td>\n",
              "      <td>0</td>\n",
              "      <td>0</td>\n",
              "      <td>...</td>\n",
              "      <td>0</td>\n",
              "      <td>0</td>\n",
              "      <td>0</td>\n",
              "      <td>0</td>\n",
              "      <td>0</td>\n",
              "      <td>1</td>\n",
              "      <td>0</td>\n",
              "      <td>0</td>\n",
              "      <td>0</td>\n",
              "      <td>1</td>\n",
              "    </tr>\n",
              "    <tr>\n",
              "      <th>1</th>\n",
              "      <td>2016</td>\n",
              "      <td>36203</td>\n",
              "      <td>20</td>\n",
              "      <td>64.2</td>\n",
              "      <td>2.0</td>\n",
              "      <td>16500</td>\n",
              "      <td>0</td>\n",
              "      <td>0</td>\n",
              "      <td>0</td>\n",
              "      <td>0</td>\n",
              "      <td>...</td>\n",
              "      <td>0</td>\n",
              "      <td>0</td>\n",
              "      <td>0</td>\n",
              "      <td>0</td>\n",
              "      <td>1</td>\n",
              "      <td>0</td>\n",
              "      <td>0</td>\n",
              "      <td>1</td>\n",
              "      <td>0</td>\n",
              "      <td>0</td>\n",
              "    </tr>\n",
              "    <tr>\n",
              "      <th>2</th>\n",
              "      <td>2016</td>\n",
              "      <td>29946</td>\n",
              "      <td>30</td>\n",
              "      <td>55.4</td>\n",
              "      <td>1.4</td>\n",
              "      <td>11000</td>\n",
              "      <td>1</td>\n",
              "      <td>0</td>\n",
              "      <td>0</td>\n",
              "      <td>0</td>\n",
              "      <td>...</td>\n",
              "      <td>0</td>\n",
              "      <td>0</td>\n",
              "      <td>0</td>\n",
              "      <td>0</td>\n",
              "      <td>0</td>\n",
              "      <td>1</td>\n",
              "      <td>0</td>\n",
              "      <td>0</td>\n",
              "      <td>0</td>\n",
              "      <td>1</td>\n",
              "    </tr>\n",
              "    <tr>\n",
              "      <th>3</th>\n",
              "      <td>2017</td>\n",
              "      <td>25952</td>\n",
              "      <td>145</td>\n",
              "      <td>67.3</td>\n",
              "      <td>2.0</td>\n",
              "      <td>16800</td>\n",
              "      <td>0</td>\n",
              "      <td>0</td>\n",
              "      <td>0</td>\n",
              "      <td>1</td>\n",
              "      <td>...</td>\n",
              "      <td>0</td>\n",
              "      <td>0</td>\n",
              "      <td>0</td>\n",
              "      <td>0</td>\n",
              "      <td>1</td>\n",
              "      <td>0</td>\n",
              "      <td>0</td>\n",
              "      <td>1</td>\n",
              "      <td>0</td>\n",
              "      <td>0</td>\n",
              "    </tr>\n",
              "    <tr>\n",
              "      <th>4</th>\n",
              "      <td>2019</td>\n",
              "      <td>1998</td>\n",
              "      <td>145</td>\n",
              "      <td>49.6</td>\n",
              "      <td>1.0</td>\n",
              "      <td>17300</td>\n",
              "      <td>0</td>\n",
              "      <td>0</td>\n",
              "      <td>1</td>\n",
              "      <td>0</td>\n",
              "      <td>...</td>\n",
              "      <td>0</td>\n",
              "      <td>0</td>\n",
              "      <td>0</td>\n",
              "      <td>0</td>\n",
              "      <td>0</td>\n",
              "      <td>1</td>\n",
              "      <td>0</td>\n",
              "      <td>0</td>\n",
              "      <td>0</td>\n",
              "      <td>1</td>\n",
              "    </tr>\n",
              "  </tbody>\n",
              "</table>\n",
              "<p>5 rows × 38 columns</p>\n",
              "</div>\n",
              "      <button class=\"colab-df-convert\" onclick=\"convertToInteractive('df-bc79739d-75f2-4c89-b895-006276c04937')\"\n",
              "              title=\"Convert this dataframe to an interactive table.\"\n",
              "              style=\"display:none;\">\n",
              "        \n",
              "  <svg xmlns=\"http://www.w3.org/2000/svg\" height=\"24px\"viewBox=\"0 0 24 24\"\n",
              "       width=\"24px\">\n",
              "    <path d=\"M0 0h24v24H0V0z\" fill=\"none\"/>\n",
              "    <path d=\"M18.56 5.44l.94 2.06.94-2.06 2.06-.94-2.06-.94-.94-2.06-.94 2.06-2.06.94zm-11 1L8.5 8.5l.94-2.06 2.06-.94-2.06-.94L8.5 2.5l-.94 2.06-2.06.94zm10 10l.94 2.06.94-2.06 2.06-.94-2.06-.94-.94-2.06-.94 2.06-2.06.94z\"/><path d=\"M17.41 7.96l-1.37-1.37c-.4-.4-.92-.59-1.43-.59-.52 0-1.04.2-1.43.59L10.3 9.45l-7.72 7.72c-.78.78-.78 2.05 0 2.83L4 21.41c.39.39.9.59 1.41.59.51 0 1.02-.2 1.41-.59l7.78-7.78 2.81-2.81c.8-.78.8-2.07 0-2.86zM5.41 20L4 18.59l7.72-7.72 1.47 1.35L5.41 20z\"/>\n",
              "  </svg>\n",
              "      </button>\n",
              "      \n",
              "  <style>\n",
              "    .colab-df-container {\n",
              "      display:flex;\n",
              "      flex-wrap:wrap;\n",
              "      gap: 12px;\n",
              "    }\n",
              "\n",
              "    .colab-df-convert {\n",
              "      background-color: #E8F0FE;\n",
              "      border: none;\n",
              "      border-radius: 50%;\n",
              "      cursor: pointer;\n",
              "      display: none;\n",
              "      fill: #1967D2;\n",
              "      height: 32px;\n",
              "      padding: 0 0 0 0;\n",
              "      width: 32px;\n",
              "    }\n",
              "\n",
              "    .colab-df-convert:hover {\n",
              "      background-color: #E2EBFA;\n",
              "      box-shadow: 0px 1px 2px rgba(60, 64, 67, 0.3), 0px 1px 3px 1px rgba(60, 64, 67, 0.15);\n",
              "      fill: #174EA6;\n",
              "    }\n",
              "\n",
              "    [theme=dark] .colab-df-convert {\n",
              "      background-color: #3B4455;\n",
              "      fill: #D2E3FC;\n",
              "    }\n",
              "\n",
              "    [theme=dark] .colab-df-convert:hover {\n",
              "      background-color: #434B5C;\n",
              "      box-shadow: 0px 1px 3px 1px rgba(0, 0, 0, 0.15);\n",
              "      filter: drop-shadow(0px 1px 2px rgba(0, 0, 0, 0.3));\n",
              "      fill: #FFFFFF;\n",
              "    }\n",
              "  </style>\n",
              "\n",
              "      <script>\n",
              "        const buttonEl =\n",
              "          document.querySelector('#df-bc79739d-75f2-4c89-b895-006276c04937 button.colab-df-convert');\n",
              "        buttonEl.style.display =\n",
              "          google.colab.kernel.accessAllowed ? 'block' : 'none';\n",
              "\n",
              "        async function convertToInteractive(key) {\n",
              "          const element = document.querySelector('#df-bc79739d-75f2-4c89-b895-006276c04937');\n",
              "          const dataTable =\n",
              "            await google.colab.kernel.invokeFunction('convertToInteractive',\n",
              "                                                     [key], {});\n",
              "          if (!dataTable) return;\n",
              "\n",
              "          const docLinkHtml = 'Like what you see? Visit the ' +\n",
              "            '<a target=\"_blank\" href=https://colab.research.google.com/notebooks/data_table.ipynb>data table notebook</a>'\n",
              "            + ' to learn more about interactive tables.';\n",
              "          element.innerHTML = '';\n",
              "          dataTable['output_type'] = 'display_data';\n",
              "          await google.colab.output.renderOutput(dataTable, element);\n",
              "          const docLink = document.createElement('div');\n",
              "          docLink.innerHTML = docLinkHtml;\n",
              "          element.appendChild(docLink);\n",
              "        }\n",
              "      </script>\n",
              "    </div>\n",
              "  </div>\n",
              "  "
            ]
          },
          "metadata": {},
          "execution_count": 36
        }
      ]
    },
    {
      "cell_type": "code",
      "source": [
        "X = df.drop(['europrice'], axis=1)\n",
        "y = df['europrice']"
      ],
      "metadata": {
        "id": "wSndr1Y3o3Bh"
      },
      "execution_count": null,
      "outputs": []
    },
    {
      "cell_type": "code",
      "source": [
        "from sklearn.model_selection import train_test_split\n",
        "X_train, X_test, y_train, y_test = train_test_split(X, y, test_size=0.2, random_state=42)"
      ],
      "metadata": {
        "id": "BHqJmTSKpWLf"
      },
      "execution_count": null,
      "outputs": []
    },
    {
      "cell_type": "markdown",
      "source": [
        "## Linear Regression"
      ],
      "metadata": {
        "id": "D6IYG-v-psYv"
      }
    },
    {
      "cell_type": "code",
      "source": [
        "from sklearn.linear_model import LinearRegression\n",
        "lin_model = LinearRegression()\n",
        "lin_model.fit(X_train, y_train)\n",
        "lin_model.score(X_test, y_test)"
      ],
      "metadata": {
        "colab": {
          "base_uri": "https://localhost:8080/"
        },
        "id": "KKgshyoupi4O",
        "outputId": "12476f3f-fa45-4f4b-cf03-ea483b1e2d18"
      },
      "execution_count": null,
      "outputs": [
        {
          "output_type": "execute_result",
          "data": {
            "text/plain": [
              "0.8960446237229936"
            ]
          },
          "metadata": {},
          "execution_count": 39
        }
      ]
    },
    {
      "cell_type": "code",
      "source": [
        "lin_model.score(X_train, y_train)"
      ],
      "metadata": {
        "colab": {
          "base_uri": "https://localhost:8080/"
        },
        "id": "TKArtsgjqCTG",
        "outputId": "27d8cdf6-d5b5-422d-e417-b2fde2f4e624"
      },
      "execution_count": null,
      "outputs": [
        {
          "output_type": "execute_result",
          "data": {
            "text/plain": [
              "0.8902521668369524"
            ]
          },
          "metadata": {},
          "execution_count": 40
        }
      ]
    },
    {
      "cell_type": "code",
      "source": [
        "from sklearn.metrics import mean_squared_error\n",
        "lr_pred = lin_model.predict(X_test)\n",
        "mean_squared_error(y_test, lr_pred, squared=False)"
      ],
      "metadata": {
        "colab": {
          "base_uri": "https://localhost:8080/"
        },
        "id": "QSST4sA0qIci",
        "outputId": "7da71a04-8871-46e0-fa82-c59b83661aa4"
      },
      "execution_count": null,
      "outputs": [
        {
          "output_type": "execute_result",
          "data": {
            "text/plain": [
              "3963.6755587039756"
            ]
          },
          "metadata": {},
          "execution_count": 41
        }
      ]
    },
    {
      "cell_type": "markdown",
      "source": [
        "##DTR"
      ],
      "metadata": {
        "id": "8YduOX6eqo8Y"
      }
    },
    {
      "cell_type": "code",
      "source": [
        "from sklearn.tree import DecisionTreeRegressor\n",
        "dtr_model = DecisionTreeRegressor(max_depth=4, max_leaf_nodes=6)\n",
        "dtr_model.fit(X_train, y_train)\n",
        "dtr_model.score(X_test, y_test)"
      ],
      "metadata": {
        "colab": {
          "base_uri": "https://localhost:8080/"
        },
        "id": "ytLyhMAbqrNf",
        "outputId": "73092246-485c-40c7-b404-51eaccc37af3"
      },
      "execution_count": null,
      "outputs": [
        {
          "output_type": "execute_result",
          "data": {
            "text/plain": [
              "0.7233589333061051"
            ]
          },
          "metadata": {},
          "execution_count": 56
        }
      ]
    },
    {
      "cell_type": "code",
      "source": [
        "dtr_model.score(X_train, y_train)"
      ],
      "metadata": {
        "colab": {
          "base_uri": "https://localhost:8080/"
        },
        "id": "72Wg8GR0q-Ld",
        "outputId": "8308bfd4-0018-47e6-a057-5c621c412004"
      },
      "execution_count": null,
      "outputs": [
        {
          "output_type": "execute_result",
          "data": {
            "text/plain": [
              "0.6296460560316846"
            ]
          },
          "metadata": {},
          "execution_count": 47
        }
      ]
    },
    {
      "cell_type": "code",
      "source": [
        "dtr_pred = dtr_model.predict(X_test)\n",
        "mean_squared_error(y_test, dtr_pred, squared=False)"
      ],
      "metadata": {
        "colab": {
          "base_uri": "https://localhost:8080/"
        },
        "id": "KIsGdlQ8rAvw",
        "outputId": "6b675c9d-de7d-4c40-8d79-5a332e3c690d"
      },
      "execution_count": null,
      "outputs": [
        {
          "output_type": "execute_result",
          "data": {
            "text/plain": [
              "6903.50617940631"
            ]
          },
          "metadata": {},
          "execution_count": 48
        }
      ]
    },
    {
      "cell_type": "code",
      "source": [
        "plt.figure(figsize=(12,8))\n",
        "from sklearn import tree\n",
        "tree.plot_tree(dtr_model.fit(X_train, y_train))"
      ],
      "metadata": {
        "id": "kyZd_qKfeHZS",
        "colab": {
          "base_uri": "https://localhost:8080/",
          "height": 726
        },
        "outputId": "d4c4c2a9-024e-42ef-86e9-13a760de0abb"
      },
      "execution_count": null,
      "outputs": [
        {
          "output_type": "execute_result",
          "data": {
            "text/plain": [
              "[Text(0.4230769230769231, 0.9, 'X[3] <= 39.5\\nsquared_error = 133720307.769\\nsamples = 8534\\nvalue = 22822.755'),\n",
              " Text(0.15384615384615385, 0.7, 'X[4] <= 2.7\\nsquared_error = 226279926.489\\nsamples = 1602\\nvalue = 37679.27'),\n",
              " Text(0.07692307692307693, 0.5, 'squared_error = 51479455.574\\nsamples = 945\\nvalue = 31499.945'),\n",
              " Text(0.23076923076923078, 0.5, 'X[4] <= 4.7\\nsquared_error = 343785208.431\\nsamples = 657\\nvalue = 46567.339'),\n",
              " Text(0.15384615384615385, 0.3, 'X[0] <= 2015.5\\nsquared_error = 226221636.141\\nsamples = 639\\nvalue = 45030.097'),\n",
              " Text(0.07692307692307693, 0.1, 'squared_error = 158285855.635\\nsamples = 85\\nvalue = 22764.847'),\n",
              " Text(0.23076923076923078, 0.1, 'squared_error = 148913526.254\\nsamples = 554\\nvalue = 48446.245'),\n",
              " Text(0.3076923076923077, 0.3, 'squared_error = 1455286824.691\\nsamples = 18\\nvalue = 101139.444'),\n",
              " Text(0.6923076923076923, 0.7, 'X[0] <= 2017.5\\nsquared_error = 49533594.72\\nsamples = 6932\\nvalue = 19389.383'),\n",
              " Text(0.5384615384615384, 0.5, 'X[2] <= 137.5\\nsquared_error = 26245884.513\\nsamples = 4447\\nvalue = 16028.412'),\n",
              " Text(0.46153846153846156, 0.3, 'squared_error = 11201468.681\\nsamples = 2309\\nvalue = 13517.541'),\n",
              " Text(0.6153846153846154, 0.3, 'squared_error = 28331580.794\\nsamples = 2138\\nvalue = 18740.105'),\n",
              " Text(0.8461538461538461, 0.5, 'X[4] <= 1.9\\nsquared_error = 34817769.434\\nsamples = 2485\\nvalue = 25403.966'),\n",
              " Text(0.7692307692307693, 0.3, 'squared_error = 15583817.89\\nsamples = 1276\\nvalue = 22147.915'),\n",
              " Text(0.9230769230769231, 0.3, 'squared_error = 32118724.268\\nsamples = 1209\\nvalue = 28840.461')]"
            ]
          },
          "metadata": {},
          "execution_count": 55
        },
        {
          "output_type": "display_data",
          "data": {
            "text/plain": [
              "<Figure size 864x576 with 1 Axes>"
            ],
            "image/png": "[encoded data removed]"
          },
          "metadata": {
            "needs_background": "light"
          }
        }
      ]
    }
  ]
}